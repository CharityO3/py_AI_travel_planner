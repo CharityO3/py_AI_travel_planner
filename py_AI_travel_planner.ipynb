{
  "nbformat": 4,
  "nbformat_minor": 0,
  "metadata": {
    "colab": {
      "provenance": [],
      "authorship_tag": "ABX9TyPQBkayASafjVhs4t4sD5aL",
      "include_colab_link": true
    },
    "kernelspec": {
      "name": "python3",
      "display_name": "Python 3"
    },
    "language_info": {
      "name": "python"
    }
  },
  "cells": [
    {
      "cell_type": "markdown",
      "metadata": {
        "id": "view-in-github",
        "colab_type": "text"
      },
      "source": [
        "<a href=\"https://colab.research.google.com/github/CharityO3/py_AI_travel_planner/blob/main/py_AI_travel_planner.ipynb\" target=\"_parent\"><img src=\"https://colab.research.google.com/assets/colab-badge.svg\" alt=\"Open In Colab\"/></a>"
      ]
    },
    {
      "cell_type": "code",
      "execution_count": null,
      "metadata": {
        "colab": {
          "base_uri": "https://localhost:8080/",
          "height": 1000
        },
        "id": "vZbtDREw68Is",
        "outputId": "16113794-58bc-4d90-d0f0-89ac60659e43"
      },
      "outputs": [
        {
          "output_type": "display_data",
          "data": {
            "text/plain": [
              "\u001b[1;35mWelcome to the AI Travel Itinerary Planner\u001b[0m\n",
              "\n",
              "\n"
            ],
            "text/html": [
              "<pre style=\"white-space:pre;overflow-x:auto;line-height:normal;font-family:Menlo,'DejaVu Sans Mono',consolas,'Courier New',monospace\"><span style=\"color: #800080; text-decoration-color: #800080; font-weight: bold\">Welcome to the AI Travel Itinerary Planner</span>\n",
              "\n",
              "\n",
              "</pre>\n"
            ]
          },
          "metadata": {}
        },
        {
          "name": "stdout",
          "output_type": "stream",
          "text": [
            "What is your origin city? Poznan\n",
            "What is your destinaton city? Warsaw\n",
            "How many days will your trip last? (enter a number only, i.e 5) 2\n"
          ]
        },
        {
          "output_type": "display_data",
          "data": {
            "text/plain": [
              "\n",
              "\n",
              "The curent temperature in \u001b[1mPoznan\u001b[0m is \u001b[1;36m22\u001b[0m\u001b[1m°C\u001b[0m, clear sky.\n",
              "\n"
            ],
            "text/html": [
              "<pre style=\"white-space:pre;overflow-x:auto;line-height:normal;font-family:Menlo,'DejaVu Sans Mono',consolas,'Courier New',monospace\">\n",
              "\n",
              "The curent temperature in <span style=\"font-weight: bold\">Poznan</span> is <span style=\"color: #008080; text-decoration-color: #008080; font-weight: bold\">22</span><span style=\"font-weight: bold\">°C</span>, clear sky.\n",
              "\n",
              "</pre>\n"
            ]
          },
          "metadata": {}
        },
        {
          "output_type": "display_data",
          "data": {
            "text/plain": [
              "\n",
              "\n",
              "The curent temperature in \u001b[1mWarsaw\u001b[0m is \u001b[1;36m21\u001b[0m\u001b[1m°C\u001b[0m, clear sky.\n",
              "\n"
            ],
            "text/html": [
              "<pre style=\"white-space:pre;overflow-x:auto;line-height:normal;font-family:Menlo,'DejaVu Sans Mono',consolas,'Courier New',monospace\">\n",
              "\n",
              "The curent temperature in <span style=\"font-weight: bold\">Warsaw</span> is <span style=\"color: #008080; text-decoration-color: #008080; font-weight: bold\">21</span><span style=\"font-weight: bold\">°C</span>, clear sky.\n",
              "\n",
              "</pre>\n"
            ]
          },
          "metadata": {}
        },
        {
          "output_type": "display_data",
          "data": {
            "text/plain": [
              "\n",
              "\n",
              "Generating itinerary from Poznan to Warsaw\u001b[33m...\u001b[0m\n",
              "\n"
            ],
            "text/html": [
              "<pre style=\"white-space:pre;overflow-x:auto;line-height:normal;font-family:Menlo,'DejaVu Sans Mono',consolas,'Courier New',monospace\">\n",
              "\n",
              "Generating itinerary from Poznan to Warsaw<span style=\"color: #808000; text-decoration-color: #808000\">...</span>\n",
              "\n",
              "</pre>\n"
            ]
          },
          "metadata": {}
        },
        {
          "output_type": "display_data",
          "data": {
            "text/plain": [
              "                                 \u001b[1m🚗 2-Day Road Trip Itinerary: Poznań to Warsaw 🌍\u001b[0m                                 \n",
              "\n",
              "\u001b[1mDay 1: Poznań to Warsaw\u001b[0m                                                                                            \n",
              "\n",
              "\u001b[1;33m 1 \u001b[0m\u001b[1mStart in Poznań\u001b[0m                                                                                                 \n",
              "\u001b[1;33m   \u001b[0m\u001b[1;33m • \u001b[0mBreakfast at a local café: 40 PLN (€8.50) ☕                                                                 \n",
              "\u001b[1;33m   \u001b[0m\u001b[1;33m • \u001b[0mVisit the Old Market Square: Free entry 🌟                                                                   \n",
              "\u001b[1;33m 2 \u001b[0m\u001b[1mDrive to Kórnik Castle\u001b[0m (30 mins, 30 km)                                                                         \n",
              "\u001b[1;33m   \u001b[0m\u001b[1;33m • \u001b[0mEntry Fee: 20 PLN (€4.25) 🏰                                                                                 \n",
              "\u001b[1;33m   \u001b[0m\u001b[1;33m • \u001b[0mExplore the gardens and castle.                                                                              \n",
              "\u001b[1;33m 3 \u001b[0m\u001b[1mLunch in Kórnik\u001b[0m                                                                                                 \n",
              "\u001b[1;33m   \u001b[0m\u001b[1;33m • \u001b[0mLocal meal at a restaurant: 60 PLN (€13) 🍽️                                                                   \n",
              "\u001b[1;33m 4 \u001b[0m\u001b[1mContinue to Warsaw\u001b[0m (2 hrs, 150 km)                                                                              \n",
              "\u001b[1;33m   \u001b[0m\u001b[1;33m • \u001b[0mFuel costs: ~100 PLN (€21) ⛽                                                                                \n",
              "\u001b[1;33m 5 \u001b[0m\u001b[1mCheck-In at Hotel in Warsaw\u001b[0m                                                                                     \n",
              "\u001b[1;33m   \u001b[0m\u001b[1;33m • \u001b[0mAverage hotel cost: 300 PLN (€63) 🏨                                                                         \n",
              "\u001b[1;33m 6 \u001b[0m\u001b[1mEvening Stroll in the Old Town\u001b[0m                                                                                  \n",
              "\u001b[1;33m   \u001b[0m\u001b[1;33m • \u001b[0mDinner at a local eatery: 80 PLN (€17) 🍕                                                                    \n",
              "\n",
              "\u001b[33m───────────────────────────────────────────────────────────────────────────────────────────────────────────────────\u001b[0m\n",
              "\u001b[1mDay 2: Explore Warsaw\u001b[0m                                                                                              \n",
              "\n",
              "\u001b[1;33m  7 \u001b[0m\u001b[1mBreakfast at Hotel\u001b[0m                                                                                             \n",
              "\u001b[1;33m    \u001b[0m\u001b[1;33m • \u001b[0mIncluded or around 30 PLN (€6.50) 🍳                                                                        \n",
              "\u001b[1;33m  8 \u001b[0m\u001b[1mVisit Łazienki Park\u001b[0m                                                                                            \n",
              "\u001b[1;33m    \u001b[0m\u001b[1;33m • \u001b[0mEntry Fee: Free entry 🌳                                                                                    \n",
              "\u001b[1;33m  9 \u001b[0m\u001b[1mExplore the Warsaw Uprising Museum\u001b[0m                                                                             \n",
              "\u001b[1;33m    \u001b[0m\u001b[1;33m • \u001b[0mEntry Fee: 25 PLN (€5.25) 🎖️                                                                                 \n",
              "\u001b[1;33m 10 \u001b[0m\u001b[1mLunch Near the Museum\u001b[0m                                                                                          \n",
              "\u001b[1;33m    \u001b[0m\u001b[1;33m • \u001b[0mFast food or local eatery: 50 PLN (€11) 🍔                                                                  \n",
              "\u001b[1;33m 11 \u001b[0m\u001b[1mAfternoon Visit to Wilanów Palace\u001b[0m                                                                              \n",
              "\u001b[1;33m    \u001b[0m\u001b[1;33m • \u001b[0mEntry Fee: 30 PLN (€6.50) 🏛️                                                                                 \n",
              "\u001b[1;33m 12 \u001b[0m\u001b[1mDrive Back to Poznań\u001b[0m (3 hrs, 310 km)                                                                           \n",
              "\u001b[1;33m    \u001b[0m\u001b[1;33m • \u001b[0mFuel costs: ~130 PLN (€27) ⛽                                                                               \n",
              "\n",
              "                                                  \u001b[1mTotal Estimate\u001b[0m                                                   \n",
              "\n",
              "\u001b[1mPLN:\u001b[0m  835                                                                                                          \n",
              "\u001b[1m€:\u001b[0m  €177.00                                                                                                        \n",
              "\n",
              "Enjoy your trip! 🌟                                                                                                \n"
            ],
            "text/html": [
              "<pre style=\"white-space:pre;overflow-x:auto;line-height:normal;font-family:Menlo,'DejaVu Sans Mono',consolas,'Courier New',monospace\">                                 <span style=\"font-weight: bold\">🚗 2-Day Road Trip Itinerary: Poznań to Warsaw 🌍</span>                                 \n",
              "\n",
              "<span style=\"font-weight: bold\">Day 1: Poznań to Warsaw</span>                                                                                            \n",
              "\n",
              "<span style=\"color: #808000; text-decoration-color: #808000; font-weight: bold\"> 1 </span><span style=\"font-weight: bold\">Start in Poznań</span>                                                                                                 \n",
              "<span style=\"color: #808000; text-decoration-color: #808000; font-weight: bold\">    • </span>Breakfast at a local café: 40 PLN (€8.50) ☕                                                                 \n",
              "<span style=\"color: #808000; text-decoration-color: #808000; font-weight: bold\">    • </span>Visit the Old Market Square: Free entry 🌟                                                                   \n",
              "<span style=\"color: #808000; text-decoration-color: #808000; font-weight: bold\"> 2 </span><span style=\"font-weight: bold\">Drive to Kórnik Castle</span> (30 mins, 30 km)                                                                         \n",
              "<span style=\"color: #808000; text-decoration-color: #808000; font-weight: bold\">    • </span>Entry Fee: 20 PLN (€4.25) 🏰                                                                                 \n",
              "<span style=\"color: #808000; text-decoration-color: #808000; font-weight: bold\">    • </span>Explore the gardens and castle.                                                                              \n",
              "<span style=\"color: #808000; text-decoration-color: #808000; font-weight: bold\"> 3 </span><span style=\"font-weight: bold\">Lunch in Kórnik</span>                                                                                                 \n",
              "<span style=\"color: #808000; text-decoration-color: #808000; font-weight: bold\">    • </span>Local meal at a restaurant: 60 PLN (€13) 🍽️                                                                   \n",
              "<span style=\"color: #808000; text-decoration-color: #808000; font-weight: bold\"> 4 </span><span style=\"font-weight: bold\">Continue to Warsaw</span> (2 hrs, 150 km)                                                                              \n",
              "<span style=\"color: #808000; text-decoration-color: #808000; font-weight: bold\">    • </span>Fuel costs: ~100 PLN (€21) ⛽                                                                                \n",
              "<span style=\"color: #808000; text-decoration-color: #808000; font-weight: bold\"> 5 </span><span style=\"font-weight: bold\">Check-In at Hotel in Warsaw</span>                                                                                     \n",
              "<span style=\"color: #808000; text-decoration-color: #808000; font-weight: bold\">    • </span>Average hotel cost: 300 PLN (€63) 🏨                                                                         \n",
              "<span style=\"color: #808000; text-decoration-color: #808000; font-weight: bold\"> 6 </span><span style=\"font-weight: bold\">Evening Stroll in the Old Town</span>                                                                                  \n",
              "<span style=\"color: #808000; text-decoration-color: #808000; font-weight: bold\">    • </span>Dinner at a local eatery: 80 PLN (€17) 🍕                                                                    \n",
              "\n",
              "<span style=\"color: #808000; text-decoration-color: #808000\">───────────────────────────────────────────────────────────────────────────────────────────────────────────────────</span>\n",
              "<span style=\"font-weight: bold\">Day 2: Explore Warsaw</span>                                                                                              \n",
              "\n",
              "<span style=\"color: #808000; text-decoration-color: #808000; font-weight: bold\">  7 </span><span style=\"font-weight: bold\">Breakfast at Hotel</span>                                                                                             \n",
              "<span style=\"color: #808000; text-decoration-color: #808000; font-weight: bold\">     • </span>Included or around 30 PLN (€6.50) 🍳                                                                        \n",
              "<span style=\"color: #808000; text-decoration-color: #808000; font-weight: bold\">  8 </span><span style=\"font-weight: bold\">Visit Łazienki Park</span>                                                                                            \n",
              "<span style=\"color: #808000; text-decoration-color: #808000; font-weight: bold\">     • </span>Entry Fee: Free entry 🌳                                                                                    \n",
              "<span style=\"color: #808000; text-decoration-color: #808000; font-weight: bold\">  9 </span><span style=\"font-weight: bold\">Explore the Warsaw Uprising Museum</span>                                                                             \n",
              "<span style=\"color: #808000; text-decoration-color: #808000; font-weight: bold\">     • </span>Entry Fee: 25 PLN (€5.25) 🎖️                                                                                 \n",
              "<span style=\"color: #808000; text-decoration-color: #808000; font-weight: bold\"> 10 </span><span style=\"font-weight: bold\">Lunch Near the Museum</span>                                                                                          \n",
              "<span style=\"color: #808000; text-decoration-color: #808000; font-weight: bold\">     • </span>Fast food or local eatery: 50 PLN (€11) 🍔                                                                  \n",
              "<span style=\"color: #808000; text-decoration-color: #808000; font-weight: bold\"> 11 </span><span style=\"font-weight: bold\">Afternoon Visit to Wilanów Palace</span>                                                                              \n",
              "<span style=\"color: #808000; text-decoration-color: #808000; font-weight: bold\">     • </span>Entry Fee: 30 PLN (€6.50) 🏛️                                                                                 \n",
              "<span style=\"color: #808000; text-decoration-color: #808000; font-weight: bold\"> 12 </span><span style=\"font-weight: bold\">Drive Back to Poznań</span> (3 hrs, 310 km)                                                                           \n",
              "<span style=\"color: #808000; text-decoration-color: #808000; font-weight: bold\">     • </span>Fuel costs: ~130 PLN (€27) ⛽                                                                               \n",
              "\n",
              "                                                  <span style=\"font-weight: bold\">Total Estimate</span>                                                   \n",
              "\n",
              "<span style=\"font-weight: bold\">PLN:</span>  835                                                                                                          \n",
              "<span style=\"font-weight: bold\">€:</span>  €177.00                                                                                                        \n",
              "\n",
              "Enjoy your trip! 🌟                                                                                                \n",
              "</pre>\n"
            ]
          },
          "metadata": {}
        },
        {
          "output_type": "display_data",
          "data": {
            "text/plain": [
              "\n",
              "\n",
              "\u001b[35mThe AI Travel Itinerary Planner was built by \u001b[0m\u001b[1;35mCharity Orhoridiohwo\u001b[0m\u001b[35m, thank you for using it❤️\u001b[0m\n",
              "\n"
            ],
            "text/html": [
              "<pre style=\"white-space:pre;overflow-x:auto;line-height:normal;font-family:Menlo,'DejaVu Sans Mono',consolas,'Courier New',monospace\">\n",
              "\n",
              "<span style=\"color: #800080; text-decoration-color: #800080\">The AI Travel Itinerary Planner was built by </span><span style=\"color: #800080; text-decoration-color: #800080; font-weight: bold\">Charity Orhoridiohwo</span><span style=\"color: #800080; text-decoration-color: #800080\">, thank you for using it❤️</span>\n",
              "\n",
              "</pre>\n"
            ]
          },
          "metadata": {}
        }
      ],
      "source": [
        "import requests\n",
        "\n",
        "from rich import print\n",
        "from rich.markdown import Markdown\n",
        "\n",
        "def display_current_weather(location):\n",
        "\n",
        "  # Get real time empearure and condition in a location\n",
        "  api_key = \"b125a59f9afa4ebc141352te1ao60a9c\"\n",
        "  api_url = f\"https://api.shecodes.io/weather/v1/current?query={location}&key={api_key}&units=metric\"\n",
        "  response = requests.get(api_url)\n",
        "  response_data = response.json()\n",
        "\n",
        "  temperature = response_data['temperature']['current']\n",
        "  condition = response_data['condition']['description']\n",
        "  print(f'\\n\\nThe curent temperature in [bold]{location}[/bold] is [bold]{round(temperature)}°C[/bold], {condition}.\\n')\n",
        "\n",
        "def generate_itinerary(origin, destination, duration):\n",
        "  # Generating AI travel itinerary\n",
        "  print(f\"\\n\\nGenerating itinerary from {origin} to {destination}...\\n\")\n",
        "\n",
        "  prompt = f\"Generate itinerary from {origin} to {destination} in {duration} days. This is a road trip, keep it short, less than 15 lines. Add some emojis to make it more readable. Add a rough estimate for each step in the country's local currency and also in bracket convert this to Euros\"\n",
        "  context =\"You are a travel AI assistant, and know the best tourist spot around the world\"\n",
        "  api_key = \"b125a59f9afa4ebc141352te1ao60a9c\"\n",
        "  api_url = f\"https://api.shecodes.io/ai/v1/generate?prompt={prompt}&context={context}&key={api_key}\"\n",
        "\n",
        "  response = requests.get(api_url)\n",
        "  response_data = response.json()\n",
        "  itinerary = Markdown(response_data['answer'])\n",
        "  print(itinerary)\n",
        "\n",
        "def welcome():\n",
        "  print(\"[bold magenta]Welcome to the AI Travel Itinerary Planner[/bold magenta]\\n\\n\")\n",
        "\n",
        "def credit():\n",
        "  print(\"\\n\\n[magenta]The AI Travel Itinerary Planner was built by [bold]Charity Orhoridiohwo[/bold], thank you for using it❤️[/magenta]\\n\")\n",
        "\n",
        "welcome()\n",
        "\n",
        "# User input (origin, destinations, and duration)\n",
        "origin = input(\"What is your origin city? \").strip()\n",
        "destination = input(\"What is your destinaton city? \").strip()\n",
        "duration = input(\"How many days will your trip last? (enter a number only, i.e 5) \").strip()\n",
        "\n",
        "if origin and destination and duration.isdigit():\n",
        "  display_current_weather(origin)\n",
        "  display_current_weather(destination)\n",
        "  generate_itinerary(origin, destination, duration)\n",
        "  credit()\n",
        "else:\n",
        "  print(\"Please try again. Make sure you enter valid information\")\n"
      ]
    },
    {
      "cell_type": "code",
      "source": [],
      "metadata": {
        "id": "96kTD2LE_KqC"
      },
      "execution_count": null,
      "outputs": []
    }
  ]
}